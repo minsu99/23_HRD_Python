{
 "cells": [
  {
   "cell_type": "code",
   "execution_count": 1,
   "id": "9cfc1abb-91b3-4a7c-8f7c-ef07d5fb7a5f",
   "metadata": {},
   "outputs": [
    {
     "name": "stdout",
     "output_type": "stream",
     "text": [
      "Requirement already satisfied: tensorflow-datasets in c:\\users\\computer\\appdata\\roaming\\python\\python38\\site-packages (4.9.2)\n",
      "Requirement already satisfied: absl-py in c:\\users\\computer\\anaconda3\\envs\\tf2\\lib\\site-packages (from tensorflow-datasets) (1.4.0)\n",
      "Requirement already satisfied: array-record in c:\\users\\computer\\appdata\\roaming\\python\\python38\\site-packages (from tensorflow-datasets) (0.4.0)\n",
      "Requirement already satisfied: click in c:\\users\\computer\\appdata\\roaming\\python\\python38\\site-packages (from tensorflow-datasets) (8.1.7)\n",
      "Requirement already satisfied: dm-tree in c:\\users\\computer\\anaconda3\\envs\\tf2\\lib\\site-packages (from tensorflow-datasets) (0.1.8)\n",
      "Requirement already satisfied: etils[enp,epath]>=0.9.0 in c:\\users\\computer\\appdata\\roaming\\python\\python38\\site-packages (from tensorflow-datasets) (1.3.0)\n",
      "Requirement already satisfied: numpy in c:\\users\\computer\\anaconda3\\envs\\tf2\\lib\\site-packages (from tensorflow-datasets) (1.24.3)\n",
      "Requirement already satisfied: promise in c:\\users\\computer\\appdata\\roaming\\python\\python38\\site-packages (from tensorflow-datasets) (2.3)\n",
      "Requirement already satisfied: protobuf>=3.20 in c:\\users\\computer\\anaconda3\\envs\\tf2\\lib\\site-packages (from tensorflow-datasets) (3.20.3)\n",
      "Requirement already satisfied: psutil in c:\\users\\computer\\anaconda3\\envs\\tf2\\lib\\site-packages (from tensorflow-datasets) (5.9.5)\n",
      "Requirement already satisfied: requests>=2.19.0 in c:\\users\\computer\\anaconda3\\envs\\tf2\\lib\\site-packages (from tensorflow-datasets) (2.31.0)\n",
      "Requirement already satisfied: tensorflow-metadata in c:\\users\\computer\\appdata\\roaming\\python\\python38\\site-packages (from tensorflow-datasets) (1.14.0)\n",
      "Requirement already satisfied: termcolor in c:\\users\\computer\\anaconda3\\envs\\tf2\\lib\\site-packages (from tensorflow-datasets) (2.3.0)\n",
      "Requirement already satisfied: toml in c:\\users\\computer\\anaconda3\\envs\\tf2\\lib\\site-packages (from tensorflow-datasets) (0.10.2)\n",
      "Requirement already satisfied: tqdm in c:\\users\\computer\\anaconda3\\envs\\tf2\\lib\\site-packages (from tensorflow-datasets) (4.66.1)\n",
      "Requirement already satisfied: wrapt in c:\\users\\computer\\anaconda3\\envs\\tf2\\lib\\site-packages (from tensorflow-datasets) (1.15.0)\n",
      "Requirement already satisfied: importlib-resources in c:\\users\\computer\\anaconda3\\envs\\tf2\\lib\\site-packages (from tensorflow-datasets) (6.0.1)\n",
      "Requirement already satisfied: typing_extensions in c:\\users\\computer\\anaconda3\\envs\\tf2\\lib\\site-packages (from etils[enp,epath]>=0.9.0->tensorflow-datasets) (4.5.0)\n",
      "Requirement already satisfied: zipp in c:\\users\\computer\\anaconda3\\envs\\tf2\\lib\\site-packages (from etils[enp,epath]>=0.9.0->tensorflow-datasets) (3.16.2)\n",
      "Requirement already satisfied: charset-normalizer<4,>=2 in c:\\users\\computer\\anaconda3\\envs\\tf2\\lib\\site-packages (from requests>=2.19.0->tensorflow-datasets) (3.2.0)\n",
      "Requirement already satisfied: idna<4,>=2.5 in c:\\users\\computer\\anaconda3\\envs\\tf2\\lib\\site-packages (from requests>=2.19.0->tensorflow-datasets) (3.4)\n",
      "Requirement already satisfied: urllib3<3,>=1.21.1 in c:\\users\\computer\\anaconda3\\envs\\tf2\\lib\\site-packages (from requests>=2.19.0->tensorflow-datasets) (1.26.16)\n",
      "Requirement already satisfied: certifi>=2017.4.17 in c:\\users\\computer\\anaconda3\\envs\\tf2\\lib\\site-packages (from requests>=2.19.0->tensorflow-datasets) (2023.7.22)\n",
      "Requirement already satisfied: colorama in c:\\users\\computer\\anaconda3\\envs\\tf2\\lib\\site-packages (from click->tensorflow-datasets) (0.4.6)\n",
      "Requirement already satisfied: six in c:\\users\\computer\\anaconda3\\envs\\tf2\\lib\\site-packages (from promise->tensorflow-datasets) (1.16.0)\n",
      "Requirement already satisfied: googleapis-common-protos<2,>=1.52.0 in c:\\users\\computer\\appdata\\roaming\\python\\python38\\site-packages (from tensorflow-metadata->tensorflow-datasets) (1.60.0)\n"
     ]
    },
    {
     "name": "stderr",
     "output_type": "stream",
     "text": [
      "WARNING: Ignoring invalid distribution -rotobuf (c:\\users\\computer\\anaconda3\\envs\\tf2\\lib\\site-packages)\n",
      "WARNING: Ignoring invalid distribution -rotobuf (c:\\users\\computer\\anaconda3\\envs\\tf2\\lib\\site-packages)\n"
     ]
    }
   ],
   "source": [
    "!pip install tensorflow-datasets"
   ]
  },
  {
   "cell_type": "code",
   "execution_count": 38,
   "id": "1fbe6338-0ce5-4a03-8942-e98f77c802f9",
   "metadata": {},
   "outputs": [],
   "source": [
    "import tensorflow_datasets as tfds\n",
    "tfds.disable_progress_bar()"
   ]
  },
  {
   "cell_type": "code",
   "execution_count": 39,
   "id": "5fa0b415-6a35-460d-a07b-753abf095568",
   "metadata": {},
   "outputs": [],
   "source": [
    "raw_train, raw_test = tfds.load(\n",
    "    'cats_vs_dogs',\n",
    "    split=['train[:80%]', 'train[20%:]'],\n",
    "    as_supervised = True\n",
    ")"
   ]
  },
  {
   "cell_type": "code",
   "execution_count": null,
   "id": "b6c9ec61-297e-4ab6-b58b-599bef30d44f",
   "metadata": {},
   "outputs": [],
   "source": [
    "FeaturesDict({\n",
    "    'image':Image(shape=(224, 224, 3), dtype=tf.uint8),\n",
    "    'image/filename':Text(shape=(), dtype=tf.string),\n",
    "    'label':ClassLabel(shape=(), dtype=tf.int64, num_classes=2),\n",
    "})"
   ]
  },
  {
   "cell_type": "code",
   "execution_count": null,
   "id": "77bd785c-e7e8-4812-b72e-486440aebf64",
   "metadata": {},
   "outputs": [],
   "source": [
    "import numpy as np\n",
    "import tensorflow as tf\n",
    "from tensorflow.image import ResizeMethod"
   ]
  },
  {
   "cell_type": "code",
   "execution_count": null,
   "id": "675ffa03-01ff-43e5-b116-5038f12a0948",
   "metadata": {},
   "outputs": [],
   "source": [
    "def preprocess(image, label):\n",
    "    out_image = tf.image.resize(image, [224, 224], method=ResizeMethod.BICUBIC)\n",
    "    out_image = tf.keras.applications.mobilenet_v2.preprocess_input(out_image) \n",
    "    return out_image, label"
   ]
  },
  {
   "cell_type": "code",
   "execution_count": null,
   "id": "a9b90e6e-060d-4ade-9118-0f7f738b5656",
   "metadata": {},
   "outputs": [],
   "source": [
    "batch_size = 32\n",
    "train_batch = raw_train.map(preprocess).batch(batch_size)\n",
    "test_batch = raw_test.map(preprocess).batch(batch_size)"
   ]
  },
  {
   "cell_type": "code",
   "execution_count": null,
   "id": "ba6d1373-7b2e-4412-b04e-ad75042f6f08",
   "metadata": {},
   "outputs": [],
   "source": [
    "mobilenet_base = tf.keras.applications.MobileNetV2(  \n",
    "    input_shape=(224, 224, 3),\n",
    "    weights=\"imagenet\",\n",
    "    include_top=False)"
   ]
  },
  {
   "cell_type": "code",
   "execution_count": null,
   "id": "0c38f520-7e22-4a7a-ae7e-35f2a2a8198b",
   "metadata": {},
   "outputs": [],
   "source": [
    "mobilenet_base.trainable=False\n",
    "\n",
    "mobilenet_mobile = tf.keras.Sequential([\n",
    "    mobilenet_base,\n",
    "   tf.keras.layers.GlobalAveragePooling2D(),\n",
    "    tf.keras.layers.Dense(1)\n",
    "])"
   ]
  },
  {
   "cell_type": "code",
   "execution_count": null,
   "id": "d63d32c0-362a-4c76-92f9-a880847e8dfe",
   "metadata": {},
   "outputs": [],
   "source": [
    "mobilenet_mobile.compile(optimizer='adam',\n",
    "                         loss = 'binary_crossentropy',\n",
    "                         metrics = ['accuracy'])"
   ]
  },
  {
   "cell_type": "code",
   "execution_count": 48,
   "id": "aa5c3afc-cd53-4a1e-9ccc-8efdd693347c",
   "metadata": {},
   "outputs": [
    {
     "name": "stdout",
     "output_type": "stream",
     "text": [
      "Epoch 1/5\n",
      "582/582 [==============================] - 308s 529ms/step - loss: 0.2783 - accuracy: 0.9723\n",
      "Epoch 2/5\n",
      "582/582 [==============================] - 308s 529ms/step - loss: 0.1858 - accuracy: 0.9824\n",
      "Epoch 3/5\n",
      "582/582 [==============================] - 310s 532ms/step - loss: 0.1692 - accuracy: 0.9838\n",
      "Epoch 4/5\n",
      "582/582 [==============================] - 309s 531ms/step - loss: 0.1606 - accuracy: 0.9854\n",
      "Epoch 5/5\n",
      "582/582 [==============================] - 309s 531ms/step - loss: 0.1515 - accuracy: 0.9865\n"
     ]
    },
    {
     "data": {
      "text/plain": [
       "<keras.src.callbacks.History at 0x2207eee3160>"
      ]
     },
     "execution_count": 48,
     "metadata": {},
     "output_type": "execute_result"
    }
   ],
   "source": [
    "mobilenet_mobile.fit(train_batch, epochs=5)"
   ]
  },
  {
   "cell_type": "code",
   "execution_count": 49,
   "id": "ac626afa-d26f-44c1-86c9-8d80a91304ca",
   "metadata": {},
   "outputs": [
    {
     "name": "stdout",
     "output_type": "stream",
     "text": [
      "582/582 - 309s - loss: 0.1809 - accuracy: 0.9821 - 309s/epoch - 532ms/step\n"
     ]
    },
    {
     "data": {
      "text/plain": [
       "[0.18089671432971954, 0.9820526838302612]"
      ]
     },
     "execution_count": 49,
     "metadata": {},
     "output_type": "execute_result"
    }
   ],
   "source": [
    "mobilenet_mobile.evaluate(test_batch, verbose=2)"
   ]
  },
  {
   "cell_type": "code",
   "execution_count": null,
   "id": "4bd2498a-f482-4350-9e89-79577f0497b8",
   "metadata": {},
   "outputs": [],
   "source": []
  }
 ],
 "metadata": {
  "kernelspec": {
   "display_name": "Python 3 (ipykernel)",
   "language": "python",
   "name": "python3"
  },
  "language_info": {
   "codemirror_mode": {
    "name": "ipython",
    "version": 3
   },
   "file_extension": ".py",
   "mimetype": "text/x-python",
   "name": "python",
   "nbconvert_exporter": "python",
   "pygments_lexer": "ipython3",
   "version": "3.8.17"
  }
 },
 "nbformat": 4,
 "nbformat_minor": 5
}

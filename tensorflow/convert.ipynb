{
 "cells": [
  {
   "cell_type": "code",
   "execution_count": 1,
   "id": "01aa705e-2a23-4ca8-9c12-af0a773a42b7",
   "metadata": {},
   "outputs": [],
   "source": [
    "import tensorflow as tf"
   ]
  },
  {
   "cell_type": "code",
   "execution_count": 2,
   "id": "2e3f6adf-2c6f-4d5a-9a6a-0517718396d5",
   "metadata": {},
   "outputs": [],
   "source": [
    "mnist = tf.keras.datasets.mnist\n",
    "(x_train, y_train), (x_test, y_test) = mnist.load_data()"
   ]
  },
  {
   "cell_type": "code",
   "execution_count": 3,
   "id": "58547898-d690-4ab5-86fa-16e8a7a894ad",
   "metadata": {},
   "outputs": [],
   "source": [
    "x_train, x_test = x_train/255.0, x_test/255.0"
   ]
  },
  {
   "cell_type": "code",
   "execution_count": 6,
   "id": "17bff49a-0d5c-4bd0-a878-3d314266198f",
   "metadata": {},
   "outputs": [],
   "source": [
    "mlp_model = tf.keras.models.Sequential([\n",
    "    tf.keras.layers.Flatten(input_shape=(28,28)),\n",
    "    tf.keras.layers.Dense(128, activation='relu'),\n",
    "    tf.keras.layers.Dense(10, activation='softmax')\n",
    "])"
   ]
  },
  {
   "cell_type": "code",
   "execution_count": 7,
   "id": "8780ad9a-a24e-45ea-abfb-7e57bcf6ea63",
   "metadata": {},
   "outputs": [],
   "source": [
    "mlp_model.compile(optimizer='adam', loss = 'sparse_categorical_crossentropy',\n",
    "                  metrics=['accuracy'])"
   ]
  },
  {
   "cell_type": "code",
   "execution_count": 8,
   "id": "b561aea3-d62d-4eb9-afa5-6f4a2f6a7c0e",
   "metadata": {},
   "outputs": [
    {
     "name": "stdout",
     "output_type": "stream",
     "text": [
      "Epoch 1/5\n",
      "1875/1875 [==============================] - 3s 1ms/step - loss: 0.2548 - accuracy: 0.9284\n",
      "Epoch 2/5\n",
      "1875/1875 [==============================] - 3s 1ms/step - loss: 0.1122 - accuracy: 0.9659\n",
      "Epoch 3/5\n",
      "1875/1875 [==============================] - 3s 1ms/step - loss: 0.0765 - accuracy: 0.9770\n",
      "Epoch 4/5\n",
      "1875/1875 [==============================] - 3s 1ms/step - loss: 0.0576 - accuracy: 0.9830\n",
      "Epoch 5/5\n",
      "1875/1875 [==============================] - 3s 1ms/step - loss: 0.0443 - accuracy: 0.9862\n"
     ]
    },
    {
     "data": {
      "text/plain": [
       "<keras.src.callbacks.History at 0x1c4e2394910>"
      ]
     },
     "execution_count": 8,
     "metadata": {},
     "output_type": "execute_result"
    }
   ],
   "source": [
    "mlp_model.fit(x_train, y_train, epochs=5)"
   ]
  },
  {
   "cell_type": "code",
   "execution_count": 10,
   "id": "83e46839-f980-4951-ade9-e98040e53eca",
   "metadata": {},
   "outputs": [],
   "source": [
    "converter = tf.lite.TFLiteConverter.from_keras_model(mlp_model)"
   ]
  },
  {
   "cell_type": "code",
   "execution_count": 11,
   "id": "2d3d074f-19f2-4a40-9296-c29d97226dc9",
   "metadata": {},
   "outputs": [
    {
     "name": "stdout",
     "output_type": "stream",
     "text": [
      "INFO:tensorflow:Assets written to: C:\\Users\\Public\\Documents\\ESTsoft\\CreatorTemp\\tmphkg09f_n\\assets\n"
     ]
    },
    {
     "name": "stderr",
     "output_type": "stream",
     "text": [
      "INFO:tensorflow:Assets written to: C:\\Users\\Public\\Documents\\ESTsoft\\CreatorTemp\\tmphkg09f_n\\assets\n"
     ]
    }
   ],
   "source": [
    "tflite_model = converter.convert()"
   ]
  },
  {
   "cell_type": "code",
   "execution_count": 43,
   "id": "1851e515-10d5-49aa-b235-d90204094ad2",
   "metadata": {},
   "outputs": [],
   "source": [
    "with open('./mnist.tflite', 'wb') as f:\n",
    "    f.write(tflite_model)"
   ]
  },
  {
   "cell_type": "code",
   "execution_count": 46,
   "id": "e4cbe7d3-98de-4eba-9d95-b48982d697ac",
   "metadata": {},
   "outputs": [
    {
     "name": "stdout",
     "output_type": "stream",
     "text": [
      "WARNING:tensorflow:Skipping full serialization of Keras layer <__main__.MLP_Model object at 0x000001C482559880>, because it is not built.\n"
     ]
    },
    {
     "name": "stderr",
     "output_type": "stream",
     "text": [
      "WARNING:tensorflow:Skipping full serialization of Keras layer <__main__.MLP_Model object at 0x000001C482559880>, because it is not built.\n"
     ]
    },
    {
     "ename": "ValueError",
     "evalue": "Model <__main__.MLP_Model object at 0x000001C482559880> cannot be saved either because the input shape is not available or because the forward pass of the model is not defined.To define a forward pass, please override `Model.call()`. To specify an input shape, either call `build(input_shape)` directly, or call the model on actual data using `Model()`, `Model.fit()`, or `Model.predict()`. If you have a custom training step, please make sure to invoke the forward pass in train step through `Model.__call__`, i.e. `model(inputs)`, as opposed to `model.call()`.",
     "output_type": "error",
     "traceback": [
      "\u001b[1;31m---------------------------------------------------------------------------\u001b[0m",
      "\u001b[1;31mValueError\u001b[0m                                Traceback (most recent call last)",
      "Cell \u001b[1;32mIn[46], line 1\u001b[0m\n\u001b[1;32m----> 1\u001b[0m \u001b[43mmlp_model\u001b[49m\u001b[38;5;241;43m.\u001b[39;49m\u001b[43msave\u001b[49m\u001b[43m(\u001b[49m\u001b[38;5;124;43m\"\u001b[39;49m\u001b[38;5;124;43m./mlp_model2/\u001b[39;49m\u001b[38;5;124;43m\"\u001b[39;49m\u001b[43m)\u001b[49m\n",
      "File \u001b[1;32m~\\anaconda3\\envs\\tf2\\lib\\site-packages\\keras\\src\\utils\\traceback_utils.py:70\u001b[0m, in \u001b[0;36mfilter_traceback.<locals>.error_handler\u001b[1;34m(*args, **kwargs)\u001b[0m\n\u001b[0;32m     67\u001b[0m     filtered_tb \u001b[38;5;241m=\u001b[39m _process_traceback_frames(e\u001b[38;5;241m.\u001b[39m__traceback__)\n\u001b[0;32m     68\u001b[0m     \u001b[38;5;66;03m# To get the full stack trace, call:\u001b[39;00m\n\u001b[0;32m     69\u001b[0m     \u001b[38;5;66;03m# `tf.debugging.disable_traceback_filtering()`\u001b[39;00m\n\u001b[1;32m---> 70\u001b[0m     \u001b[38;5;28;01mraise\u001b[39;00m e\u001b[38;5;241m.\u001b[39mwith_traceback(filtered_tb) \u001b[38;5;28;01mfrom\u001b[39;00m \u001b[38;5;28;01mNone\u001b[39;00m\n\u001b[0;32m     71\u001b[0m \u001b[38;5;28;01mfinally\u001b[39;00m:\n\u001b[0;32m     72\u001b[0m     \u001b[38;5;28;01mdel\u001b[39;00m filtered_tb\n",
      "File \u001b[1;32m~\\anaconda3\\envs\\tf2\\lib\\site-packages\\keras\\src\\saving\\legacy\\saving_utils.py:97\u001b[0m, in \u001b[0;36mraise_model_input_error\u001b[1;34m(model)\u001b[0m\n\u001b[0;32m     88\u001b[0m     \u001b[38;5;28;01mraise\u001b[39;00m \u001b[38;5;167;01mValueError\u001b[39;00m(\n\u001b[0;32m     89\u001b[0m         \u001b[38;5;124mf\u001b[39m\u001b[38;5;124m\"\u001b[39m\u001b[38;5;124mModel \u001b[39m\u001b[38;5;132;01m{\u001b[39;00mmodel\u001b[38;5;132;01m}\u001b[39;00m\u001b[38;5;124m cannot be saved because the input shape is not \u001b[39m\u001b[38;5;124m\"\u001b[39m\n\u001b[0;32m     90\u001b[0m         \u001b[38;5;124m\"\u001b[39m\u001b[38;5;124mavailable. Please specify an input shape either by calling \u001b[39m\u001b[38;5;124m\"\u001b[39m\n\u001b[0;32m     91\u001b[0m         \u001b[38;5;124m\"\u001b[39m\u001b[38;5;124m`build(input_shape)` directly, or by calling the model on actual \u001b[39m\u001b[38;5;124m\"\u001b[39m\n\u001b[0;32m     92\u001b[0m         \u001b[38;5;124m\"\u001b[39m\u001b[38;5;124mdata using `Model()`, `Model.fit()`, or `Model.predict()`.\u001b[39m\u001b[38;5;124m\"\u001b[39m\n\u001b[0;32m     93\u001b[0m     )\n\u001b[0;32m     95\u001b[0m \u001b[38;5;66;03m# If the model is not a `Sequential`, it is intended to be a subclassed\u001b[39;00m\n\u001b[0;32m     96\u001b[0m \u001b[38;5;66;03m# model.\u001b[39;00m\n\u001b[1;32m---> 97\u001b[0m \u001b[38;5;28;01mraise\u001b[39;00m \u001b[38;5;167;01mValueError\u001b[39;00m(\n\u001b[0;32m     98\u001b[0m     \u001b[38;5;124mf\u001b[39m\u001b[38;5;124m\"\u001b[39m\u001b[38;5;124mModel \u001b[39m\u001b[38;5;132;01m{\u001b[39;00mmodel\u001b[38;5;132;01m}\u001b[39;00m\u001b[38;5;124m cannot be saved either because the input shape is not \u001b[39m\u001b[38;5;124m\"\u001b[39m\n\u001b[0;32m     99\u001b[0m     \u001b[38;5;124m\"\u001b[39m\u001b[38;5;124mavailable or because the forward pass of the model is not defined.\u001b[39m\u001b[38;5;124m\"\u001b[39m\n\u001b[0;32m    100\u001b[0m     \u001b[38;5;124m\"\u001b[39m\u001b[38;5;124mTo define a forward pass, please override `Model.call()`. To specify \u001b[39m\u001b[38;5;124m\"\u001b[39m\n\u001b[0;32m    101\u001b[0m     \u001b[38;5;124m\"\u001b[39m\u001b[38;5;124man input shape, either call `build(input_shape)` directly, or call \u001b[39m\u001b[38;5;124m\"\u001b[39m\n\u001b[0;32m    102\u001b[0m     \u001b[38;5;124m\"\u001b[39m\u001b[38;5;124mthe model on actual data using `Model()`, `Model.fit()`, or \u001b[39m\u001b[38;5;124m\"\u001b[39m\n\u001b[0;32m    103\u001b[0m     \u001b[38;5;124m\"\u001b[39m\u001b[38;5;124m`Model.predict()`. If you have a custom training step, please make \u001b[39m\u001b[38;5;124m\"\u001b[39m\n\u001b[0;32m    104\u001b[0m     \u001b[38;5;124m\"\u001b[39m\u001b[38;5;124msure to invoke the forward pass in train step through \u001b[39m\u001b[38;5;124m\"\u001b[39m\n\u001b[0;32m    105\u001b[0m     \u001b[38;5;124m\"\u001b[39m\u001b[38;5;124m`Model.__call__`, i.e. `model(inputs)`, as opposed to `model.call()`.\u001b[39m\u001b[38;5;124m\"\u001b[39m\n\u001b[0;32m    106\u001b[0m )\n",
      "\u001b[1;31mValueError\u001b[0m: Model <__main__.MLP_Model object at 0x000001C482559880> cannot be saved either because the input shape is not available or because the forward pass of the model is not defined.To define a forward pass, please override `Model.call()`. To specify an input shape, either call `build(input_shape)` directly, or call the model on actual data using `Model()`, `Model.fit()`, or `Model.predict()`. If you have a custom training step, please make sure to invoke the forward pass in train step through `Model.__call__`, i.e. `model(inputs)`, as opposed to `model.call()`."
     ]
    }
   ],
   "source": [
    "mlp_model.save(\"./mlp_model2/\")"
   ]
  },
  {
   "cell_type": "code",
   "execution_count": 45,
   "id": "51e34a30-ca66-48d6-821d-2bbd4e36dbc4",
   "metadata": {},
   "outputs": [],
   "source": [
    "saved_model = tf.keras.models.load_model(\"./mlp_model2/\")"
   ]
  },
  {
   "cell_type": "code",
   "execution_count": 18,
   "id": "da9237bb-3f19-40c9-afa5-823827dbbd61",
   "metadata": {},
   "outputs": [],
   "source": [
    "converter = tf.lite.TFLiteConverter.from_saved_model(\"./mlp_model2/\")"
   ]
  },
  {
   "cell_type": "code",
   "execution_count": 19,
   "id": "49077ffb-bfbb-4b2b-ba57-8e655dc3a690",
   "metadata": {},
   "outputs": [],
   "source": [
    "tflite_model = converter.convert()"
   ]
  },
  {
   "cell_type": "code",
   "execution_count": 20,
   "id": "ccdc0e4f-e941-4681-8130-143dfe105a36",
   "metadata": {},
   "outputs": [],
   "source": [
    "with open('./saved_model.tflite', 'wb') as f:\n",
    "    f.write(tflite_model)"
   ]
  },
  {
   "cell_type": "code",
   "execution_count": 21,
   "id": "e92ecc30-a670-48ef-ae8f-b1d35983a550",
   "metadata": {},
   "outputs": [],
   "source": [
    "class Inc(tf.keras.layers.Layer):\n",
    "    def call(self, inputs):\n",
    "        return inputs + 1"
   ]
  },
  {
   "cell_type": "code",
   "execution_count": 22,
   "id": "44115c72-ff8a-4ddd-8139-3cf507eb50c4",
   "metadata": {},
   "outputs": [],
   "source": [
    "inc = Inc()"
   ]
  },
  {
   "cell_type": "code",
   "execution_count": 23,
   "id": "acb7da33-dba2-4241-84da-d87a2d34370c",
   "metadata": {},
   "outputs": [],
   "source": [
    "class Inc_Graph(tf.keras.layers.Layer):\n",
    "    @tf.function\n",
    "    def call(self, inputs):\n",
    "        return inputs + 1\n",
    "inc_g = Inc_Graph()"
   ]
  },
  {
   "cell_type": "code",
   "execution_count": 24,
   "id": "f33c5016-5fab-4792-96c2-916473e68d7e",
   "metadata": {},
   "outputs": [],
   "source": [
    "inc_g2 = tf.function(inc)"
   ]
  },
  {
   "cell_type": "code",
   "execution_count": 25,
   "id": "53ae4a3a-1939-420d-b639-cad10609e4e0",
   "metadata": {},
   "outputs": [
    {
     "name": "stdout",
     "output_type": "stream",
     "text": [
      "tf.Tensor(4, shape=(), dtype=int32)\n",
      "tf.Tensor([4 3], shape=(2,), dtype=int32)\n",
      "tf.Tensor(\n",
      "[[4. 3.]\n",
      " [2. 6.]], shape=(2, 2), dtype=float32)\n",
      "tf.Tensor(4, shape=(), dtype=int32)\n",
      "tf.Tensor([4 3], shape=(2,), dtype=int32)\n",
      "tf.Tensor(\n",
      "[[4. 3.]\n",
      " [2. 6.]], shape=(2, 2), dtype=float32)\n"
     ]
    }
   ],
   "source": [
    "print(inc_g(tf.constant(3)))\n",
    "print(inc_g(tf.constant([3,2])))\n",
    "print(inc_g(tf.constant([[3,2],[1.0,5.0]])))\n",
    "\n",
    "print(inc_g2(tf.constant(3)))\n",
    "print(inc_g2(tf.constant([3,2])))\n",
    "print(inc_g2(tf.constant([[3,2],[1.0,5.0]])))"
   ]
  },
  {
   "cell_type": "code",
   "execution_count": 26,
   "id": "4d239bff-3ccd-40a9-9ce2-55c8e6d1afc3",
   "metadata": {},
   "outputs": [
    {
     "name": "stdout",
     "output_type": "stream",
     "text": [
      "tf.Tensor(5, shape=(), dtype=int32)\n",
      "tf.Tensor(5, shape=(), dtype=int32)\n"
     ]
    }
   ],
   "source": [
    "print(inc_g(tf.constant(4)))\n",
    "print(inc_g2(tf.constant(4)))"
   ]
  },
  {
   "cell_type": "code",
   "execution_count": 27,
   "id": "b9816d39-0d48-462e-954e-53e27ae665a8",
   "metadata": {},
   "outputs": [
    {
     "name": "stdout",
     "output_type": "stream",
     "text": [
      "tf.Tensor([[2. 3. 4.]], shape=(1, 3), dtype=float32)\n"
     ]
    }
   ],
   "source": [
    "concrete_fun = inc_g.call.get_concrete_function(tf.TensorSpec(shape=(1,3),\n",
    "                                                              dtype=tf.float32))\n",
    "print(concrete_fun(tf.constant([[1.0, 2.0, 3.0]])))"
   ]
  },
  {
   "cell_type": "code",
   "execution_count": 30,
   "id": "2981af25-edc0-41cd-a1ee-4cd5c9d236d5",
   "metadata": {},
   "outputs": [
    {
     "name": "stdout",
     "output_type": "stream",
     "text": [
      "tf.Tensor([[2. 3. 4.]], shape=(1, 3), dtype=float32)\n"
     ]
    }
   ],
   "source": [
    "concrete_fun = inc_g2.get_concrete_function(tf.TensorSpec(shape=(1, 3), dtype=tf.float32))\n",
    "print(concrete_fun(tf.constant([[1.0, 2.0, 3.0]])))\n"
   ]
  },
  {
   "cell_type": "code",
   "execution_count": 31,
   "id": "463c6b22-8c60-462f-a9ab-e7f283dc57b9",
   "metadata": {},
   "outputs": [],
   "source": [
    "mlp_model = tf.keras.models.Sequential([\n",
    "    tf.keras.layers.Flatten(input_shape=(28,28)),\n",
    "    tf.keras.layers.Dense(128, activation='relu'),\n",
    "    tf.keras.layers.Dense(10, activation='softmax')\n",
    "])"
   ]
  },
  {
   "cell_type": "code",
   "execution_count": 32,
   "id": "2d7782b4-a4ce-4e3d-9d19-eccb420dd211",
   "metadata": {},
   "outputs": [],
   "source": [
    "graph_model = tf.function(mlp_model)\n",
    "concerte_func = graph_model.get_concrete_function(\n",
    "    tf.TensorSpec(shape=mlp_model.inputs[0].shape, dtype=mlp_model.inputs[0].dtype))"
   ]
  },
  {
   "cell_type": "code",
   "execution_count": 38,
   "id": "71b283e6-1036-484d-8115-34226df7f264",
   "metadata": {},
   "outputs": [],
   "source": [
    "class MLP_Model(tf.keras.Model):\n",
    "    def __init__(self):\n",
    "        super(MLP_Model, self).__init__()\n",
    "        self.flatten = tf.keras.layers.Flatten()\n",
    "        self.dense = tf.keras.layers.Dense(128, activation='relu')\n",
    "        self.softmax = tf.keras.layers.Dense(10, activation='softmax')\n",
    "        \n",
    "    @tf.function\n",
    "    def call(self, inputs):\n",
    "        x = self.flatten(inputs)\n",
    "        x = self.dense(x)\n",
    "        return self.softmax(x)"
   ]
  }
 ],
 "metadata": {
  "kernelspec": {
   "display_name": "Python 3 (ipykernel)",
   "language": "python",
   "name": "python3"
  },
  "language_info": {
   "codemirror_mode": {
    "name": "ipython",
    "version": 3
   },
   "file_extension": ".py",
   "mimetype": "text/x-python",
   "name": "python",
   "nbconvert_exporter": "python",
   "pygments_lexer": "ipython3",
   "version": "3.8.17"
  }
 },
 "nbformat": 4,
 "nbformat_minor": 5
}

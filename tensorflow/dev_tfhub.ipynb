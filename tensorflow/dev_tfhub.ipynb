{
 "cells": [
  {
   "cell_type": "code",
   "execution_count": 1,
   "id": "50e19268-1706-495a-8b3c-93668994a54e",
   "metadata": {},
   "outputs": [],
   "source": [
    "import tensorflow_datasets as tfds"
   ]
  },
  {
   "cell_type": "code",
   "execution_count": 2,
   "id": "2820c45e-1054-4ef2-a917-0c55df69b8a2",
   "metadata": {},
   "outputs": [],
   "source": [
    "tfds.disable_progress_bar()"
   ]
  },
  {
   "cell_type": "code",
   "execution_count": 3,
   "id": "9559d14f-f393-45f9-b6bd-4f0d4c4fcb79",
   "metadata": {},
   "outputs": [],
   "source": [
    "raw_train, raw_test = tfds.load(\n",
    "    'cats_vs_dogs',\n",
    "    split=['train[:80%]', 'train[20%:]'],\n",
    "    as_supervised=True\n",
    ")"
   ]
  },
  {
   "cell_type": "code",
   "execution_count": 4,
   "id": "54e1a3c7-4a72-4241-9a6d-0e393f877b17",
   "metadata": {},
   "outputs": [],
   "source": [
    "import numpy as np"
   ]
  },
  {
   "cell_type": "code",
   "execution_count": 5,
   "id": "efa5befb-ae3c-406b-b61f-a552c1f94321",
   "metadata": {},
   "outputs": [],
   "source": [
    "import tensorflow as tf"
   ]
  },
  {
   "cell_type": "code",
   "execution_count": 6,
   "id": "7f2c2376-4521-4f5b-9c32-63f5c176a3e2",
   "metadata": {},
   "outputs": [],
   "source": [
    "def preprocess(image, label):\n",
    "    out_image = tf.image.resize(image/255,[224,224])\n",
    "    return out_image, label"
   ]
  },
  {
   "cell_type": "code",
   "execution_count": 7,
   "id": "4b9481c5-bfbc-4a93-8e6d-b8e083724be9",
   "metadata": {},
   "outputs": [],
   "source": [
    "batch_size = 32\n",
    "train_batch = raw_train.map(preprocess).batch(batch_size)\n",
    "test_batch = raw_test.map(preprocess).batch(batch_size)"
   ]
  },
  {
   "cell_type": "code",
   "execution_count": 8,
   "id": "b72d6ad3-67e1-4b7c-a5fc-e05006444928",
   "metadata": {},
   "outputs": [
    {
     "name": "stdout",
     "output_type": "stream",
     "text": [
      "Collecting tensorflow-hub\n",
      "  Obtaining dependency information for tensorflow-hub from https://files.pythonhosted.org/packages/30/78/9d5292a2b616901bdb075bbf0c777b293f4140bb48108ac2b33fd716c2eb/tensorflow_hub-0.14.0-py2.py3-none-any.whl.metadata\n",
      "  Downloading tensorflow_hub-0.14.0-py2.py3-none-any.whl.metadata (1.4 kB)\n",
      "Requirement already satisfied: numpy>=1.12.0 in c:\\users\\computer\\anaconda3\\envs\\tf2\\lib\\site-packages (from tensorflow-hub) (1.24.3)\n",
      "Requirement already satisfied: protobuf>=3.19.6 in c:\\users\\computer\\anaconda3\\envs\\tf2\\lib\\site-packages (from tensorflow-hub) (3.20.3)\n",
      "Downloading tensorflow_hub-0.14.0-py2.py3-none-any.whl (90 kB)\n",
      "   ---------------------------------------- 0.0/90.3 kB ? eta -:--:--\n",
      "   ---- ----------------------------------- 10.2/90.3 kB ? eta -:--:--\n",
      "   ------------------------------- -------- 71.7/90.3 kB 787.7 kB/s eta 0:00:01\n",
      "   ---------------------------------------- 90.3/90.3 kB 860.4 kB/s eta 0:00:00\n",
      "Installing collected packages: tensorflow-hub\n",
      "Successfully installed tensorflow-hub-0.14.0\n"
     ]
    },
    {
     "name": "stderr",
     "output_type": "stream",
     "text": [
      "WARNING: Ignoring invalid distribution -rotobuf (c:\\users\\computer\\anaconda3\\envs\\tf2\\lib\\site-packages)\n",
      "WARNING: Ignoring invalid distribution -rotobuf (c:\\users\\computer\\anaconda3\\envs\\tf2\\lib\\site-packages)\n"
     ]
    }
   ],
   "source": [
    "!pip install tensorflow-hub"
   ]
  },
  {
   "cell_type": "code",
   "execution_count": 9,
   "id": "40648e35-febd-4d39-8e4e-f60e37f94482",
   "metadata": {},
   "outputs": [],
   "source": [
    "import tensorflow_hub as hub"
   ]
  },
  {
   "cell_type": "code",
   "execution_count": 10,
   "id": "8c79cd25-d311-4f07-8c5b-1c43f4ae5cca",
   "metadata": {},
   "outputs": [],
   "source": [
    "url = \"https://tfhub.dev/google/imagenet/mobilenet_v2_100_224/feature_vector/5\""
   ]
  },
  {
   "cell_type": "code",
   "execution_count": 11,
   "id": "30d7854d-cde0-4349-9b14-aa0969a558ea",
   "metadata": {},
   "outputs": [],
   "source": [
    "hub_model_transfer = tf.keras.Sequential([\n",
    "    hub.KerasLayer(url, input_shape=(224,224,3), trainable=False),\n",
    "    tf.keras.layers.Dense(1) \n",
    "])"
   ]
  },
  {
   "cell_type": "code",
   "execution_count": 12,
   "id": "76b95ac6-1799-45c6-8394-579dde6ed6ce",
   "metadata": {},
   "outputs": [],
   "source": [
    "hub_model_transfer.compile(optimizer='adam',\n",
    "                           loss = 'binary_crossentropy',\n",
    "                           metrics=['accuracy'])"
   ]
  },
  {
   "cell_type": "code",
   "execution_count": 13,
   "id": "70b745ab-42e2-4dbf-a278-606aa7041241",
   "metadata": {},
   "outputs": [
    {
     "name": "stdout",
     "output_type": "stream",
     "text": [
      "582/582 [==============================] - 276s 468ms/step - loss: 0.2647 - accuracy: 0.9671\n"
     ]
    },
    {
     "data": {
      "text/plain": [
       "<keras.src.callbacks.History at 0x1dd387d7400>"
      ]
     },
     "execution_count": 13,
     "metadata": {},
     "output_type": "execute_result"
    }
   ],
   "source": [
    "hub_model_transfer.fit(train_batch, epochs=1)"
   ]
  },
  {
   "cell_type": "code",
   "execution_count": 14,
   "id": "f4b91ccd-0af4-4e10-a843-87881eae73d8",
   "metadata": {},
   "outputs": [
    {
     "name": "stdout",
     "output_type": "stream",
     "text": [
      "582/582 - 272s - loss: 0.1484 - accuracy: 0.9845 - 272s/epoch - 468ms/step\n"
     ]
    },
    {
     "data": {
      "text/plain": [
       "[0.14838705956935883, 0.9844707250595093]"
      ]
     },
     "execution_count": 14,
     "metadata": {},
     "output_type": "execute_result"
    }
   ],
   "source": [
    "hub_model_transfer.evaluate(test_batch, verbose=2)"
   ]
  },
  {
   "cell_type": "code",
   "execution_count": null,
   "id": "73353ff2-765f-40c3-a795-6576c230afe6",
   "metadata": {},
   "outputs": [],
   "source": []
  }
 ],
 "metadata": {
  "kernelspec": {
   "display_name": "Python 3 (ipykernel)",
   "language": "python",
   "name": "python3"
  },
  "language_info": {
   "codemirror_mode": {
    "name": "ipython",
    "version": 3
   },
   "file_extension": ".py",
   "mimetype": "text/x-python",
   "name": "python",
   "nbconvert_exporter": "python",
   "pygments_lexer": "ipython3",
   "version": "3.8.17"
  }
 },
 "nbformat": 4,
 "nbformat_minor": 5
}
